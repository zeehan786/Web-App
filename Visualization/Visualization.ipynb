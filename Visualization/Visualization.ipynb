{
 "cells": [
  {
   "cell_type": "code",
   "execution_count": 25,
   "metadata": {},
   "outputs": [],
   "source": [
    "import pandas as pd\n",
    "\n",
    "# SEABORN IS A PLOTTING LIBRARY\n",
    "import seaborn as sns\n",
    "\n",
    "# MATPLOT LIB IS ALSO A PLOTTING LIBRARY\n",
    "import matplotlib.pyplot as plt\n"
   ]
  },
  {
   "cell_type": "code",
   "execution_count": 26,
   "metadata": {},
   "outputs": [
    {
     "data": {
      "text/html": [
       "<div>\n",
       "<style scoped>\n",
       "    .dataframe tbody tr th:only-of-type {\n",
       "        vertical-align: middle;\n",
       "    }\n",
       "\n",
       "    .dataframe tbody tr th {\n",
       "        vertical-align: top;\n",
       "    }\n",
       "\n",
       "    .dataframe thead th {\n",
       "        text-align: right;\n",
       "    }\n",
       "</style>\n",
       "<table border=\"1\" class=\"dataframe\">\n",
       "  <thead>\n",
       "    <tr style=\"text-align: right;\">\n",
       "      <th></th>\n",
       "      <th>ITIN_ID</th>\n",
       "      <th>YEAR</th>\n",
       "      <th>QUARTER</th>\n",
       "      <th>ORIGIN_STATE_NM</th>\n",
       "      <th>DEST_STATE_NM</th>\n",
       "      <th>TICKET_CARRIER</th>\n",
       "      <th>PASSENGERS</th>\n",
       "      <th>MARKET_FARE</th>\n",
       "      <th>NONSTOP_MILES</th>\n",
       "      <th>OP_CARRIER_GROUP</th>\n",
       "    </tr>\n",
       "  </thead>\n",
       "  <tbody>\n",
       "    <tr>\n",
       "      <th>0</th>\n",
       "      <td>201912</td>\n",
       "      <td>2019</td>\n",
       "      <td>1</td>\n",
       "      <td>Pennsylvania</td>\n",
       "      <td>Georgia</td>\n",
       "      <td>DL</td>\n",
       "      <td>1.0</td>\n",
       "      <td>36.0</td>\n",
       "      <td>692.0</td>\n",
       "      <td>NaN</td>\n",
       "    </tr>\n",
       "    <tr>\n",
       "      <th>1</th>\n",
       "      <td>201913</td>\n",
       "      <td>2019</td>\n",
       "      <td>1</td>\n",
       "      <td>Pennsylvania</td>\n",
       "      <td>Georgia</td>\n",
       "      <td>DL</td>\n",
       "      <td>1.0</td>\n",
       "      <td>143.0</td>\n",
       "      <td>692.0</td>\n",
       "      <td>NaN</td>\n",
       "    </tr>\n",
       "    <tr>\n",
       "      <th>2</th>\n",
       "      <td>201914</td>\n",
       "      <td>2019</td>\n",
       "      <td>1</td>\n",
       "      <td>Pennsylvania</td>\n",
       "      <td>Georgia</td>\n",
       "      <td>DL</td>\n",
       "      <td>1.0</td>\n",
       "      <td>203.0</td>\n",
       "      <td>692.0</td>\n",
       "      <td>NaN</td>\n",
       "    </tr>\n",
       "    <tr>\n",
       "      <th>3</th>\n",
       "      <td>201915</td>\n",
       "      <td>2019</td>\n",
       "      <td>1</td>\n",
       "      <td>Pennsylvania</td>\n",
       "      <td>Georgia</td>\n",
       "      <td>DL</td>\n",
       "      <td>1.0</td>\n",
       "      <td>211.0</td>\n",
       "      <td>692.0</td>\n",
       "      <td>NaN</td>\n",
       "    </tr>\n",
       "    <tr>\n",
       "      <th>4</th>\n",
       "      <td>201916</td>\n",
       "      <td>2019</td>\n",
       "      <td>1</td>\n",
       "      <td>Pennsylvania</td>\n",
       "      <td>Georgia</td>\n",
       "      <td>DL</td>\n",
       "      <td>1.0</td>\n",
       "      <td>241.0</td>\n",
       "      <td>692.0</td>\n",
       "      <td>NaN</td>\n",
       "    </tr>\n",
       "    <tr>\n",
       "      <th>...</th>\n",
       "      <td>...</td>\n",
       "      <td>...</td>\n",
       "      <td>...</td>\n",
       "      <td>...</td>\n",
       "      <td>...</td>\n",
       "      <td>...</td>\n",
       "      <td>...</td>\n",
       "      <td>...</td>\n",
       "      <td>...</td>\n",
       "      <td>...</td>\n",
       "    </tr>\n",
       "    <tr>\n",
       "      <th>2097147</th>\n",
       "      <td>202221881608</td>\n",
       "      <td>2022</td>\n",
       "      <td>2</td>\n",
       "      <td>Massachusetts</td>\n",
       "      <td>Iowa</td>\n",
       "      <td>DL</td>\n",
       "      <td>1.0</td>\n",
       "      <td>236.5</td>\n",
       "      <td>1165.0</td>\n",
       "      <td>NaN</td>\n",
       "    </tr>\n",
       "    <tr>\n",
       "      <th>2097148</th>\n",
       "      <td>202221881608</td>\n",
       "      <td>2022</td>\n",
       "      <td>2</td>\n",
       "      <td>Iowa</td>\n",
       "      <td>Massachusetts</td>\n",
       "      <td>DL</td>\n",
       "      <td>1.0</td>\n",
       "      <td>236.5</td>\n",
       "      <td>1165.0</td>\n",
       "      <td>NaN</td>\n",
       "    </tr>\n",
       "    <tr>\n",
       "      <th>2097149</th>\n",
       "      <td>202221881609</td>\n",
       "      <td>2022</td>\n",
       "      <td>2</td>\n",
       "      <td>Massachusetts</td>\n",
       "      <td>Iowa</td>\n",
       "      <td>DL</td>\n",
       "      <td>1.0</td>\n",
       "      <td>285.0</td>\n",
       "      <td>1165.0</td>\n",
       "      <td>NaN</td>\n",
       "    </tr>\n",
       "    <tr>\n",
       "      <th>2097150</th>\n",
       "      <td>202221881609</td>\n",
       "      <td>2022</td>\n",
       "      <td>2</td>\n",
       "      <td>Iowa</td>\n",
       "      <td>Massachusetts</td>\n",
       "      <td>DL</td>\n",
       "      <td>1.0</td>\n",
       "      <td>285.0</td>\n",
       "      <td>1165.0</td>\n",
       "      <td>NaN</td>\n",
       "    </tr>\n",
       "    <tr>\n",
       "      <th>2097151</th>\n",
       "      <td>202221881610</td>\n",
       "      <td>2022</td>\n",
       "      <td>2</td>\n",
       "      <td>Massachusetts</td>\n",
       "      <td>Iowa</td>\n",
       "      <td>DL</td>\n",
       "      <td>1.0</td>\n",
       "      <td>479.5</td>\n",
       "      <td>1165.0</td>\n",
       "      <td>NaN</td>\n",
       "    </tr>\n",
       "  </tbody>\n",
       "</table>\n",
       "<p>30500551 rows × 10 columns</p>\n",
       "</div>"
      ],
      "text/plain": [
       "              ITIN_ID  YEAR  QUARTER ORIGIN_STATE_NM  DEST_STATE_NM  \\\n",
       "0              201912  2019        1    Pennsylvania        Georgia   \n",
       "1              201913  2019        1    Pennsylvania        Georgia   \n",
       "2              201914  2019        1    Pennsylvania        Georgia   \n",
       "3              201915  2019        1    Pennsylvania        Georgia   \n",
       "4              201916  2019        1    Pennsylvania        Georgia   \n",
       "...               ...   ...      ...             ...            ...   \n",
       "2097147  202221881608  2022        2   Massachusetts           Iowa   \n",
       "2097148  202221881608  2022        2            Iowa  Massachusetts   \n",
       "2097149  202221881609  2022        2   Massachusetts           Iowa   \n",
       "2097150  202221881609  2022        2            Iowa  Massachusetts   \n",
       "2097151  202221881610  2022        2   Massachusetts           Iowa   \n",
       "\n",
       "        TICKET_CARRIER  PASSENGERS  MARKET_FARE  NONSTOP_MILES  \\\n",
       "0                   DL         1.0         36.0          692.0   \n",
       "1                   DL         1.0        143.0          692.0   \n",
       "2                   DL         1.0        203.0          692.0   \n",
       "3                   DL         1.0        211.0          692.0   \n",
       "4                   DL         1.0        241.0          692.0   \n",
       "...                ...         ...          ...            ...   \n",
       "2097147             DL         1.0        236.5         1165.0   \n",
       "2097148             DL         1.0        236.5         1165.0   \n",
       "2097149             DL         1.0        285.0         1165.0   \n",
       "2097150             DL         1.0        285.0         1165.0   \n",
       "2097151             DL         1.0        479.5         1165.0   \n",
       "\n",
       "        OP_CARRIER_GROUP  \n",
       "0                    NaN  \n",
       "1                    NaN  \n",
       "2                    NaN  \n",
       "3                    NaN  \n",
       "4                    NaN  \n",
       "...                  ...  \n",
       "2097147              NaN  \n",
       "2097148              NaN  \n",
       "2097149              NaN  \n",
       "2097150              NaN  \n",
       "2097151              NaN  \n",
       "\n",
       "[30500551 rows x 10 columns]"
      ]
     },
     "execution_count": 26,
     "metadata": {},
     "output_type": "execute_result"
    }
   ],
   "source": [
    "df_1= pd.read_csv('/Users/hamzakhalil13/Desktop/Data2/2019_1.csv')\n",
    "df_2 = pd.read_csv('/Users/hamzakhalil13/Desktop/Data2/2019_2.csv')\n",
    "df_3 = pd.read_csv('/Users/hamzakhalil13/Desktop/Data2/2019_3.csv')\n",
    "df_4 = pd.read_csv('/Users/hamzakhalil13/Desktop/Data2/2019_4.csv')\n",
    "df_5 = pd.read_csv('/Users/hamzakhalil13/Desktop/Data2/2020_1.csv')\n",
    "df_6 = pd.read_csv('/Users/hamzakhalil13/Desktop/Data2/2020_2.csv')\n",
    "df_7 = pd.read_csv('/Users/hamzakhalil13/Desktop/Data2/2020_3.csv')\n",
    "df_8 = pd.read_csv('/Users/hamzakhalil13/Desktop/Data2/2020_4.csv')\n",
    "df_9 = pd.read_csv('/Users/hamzakhalil13/Desktop/Data2/2021_1.csv')\n",
    "df_10 = pd.read_csv('/Users/hamzakhalil13/Desktop/Data2/2021_2.csv')\n",
    "df_11= pd.read_csv('/Users/hamzakhalil13/Desktop/Data2/2021_3.csv')\n",
    "df_12= pd.read_csv('/Users/hamzakhalil13/Desktop/Data2/2021_4.csv')\n",
    "df_13= pd.read_csv('/Users/hamzakhalil13/Desktop/Data2/2022_1.csv')\n",
    "df_14= pd.read_csv('/Users/hamzakhalil13/Desktop/Data2/2022_2.csv')\n",
    "\n",
    "\n",
    "\n",
    "\n",
    "\n",
    "\n",
    "\n",
    "\n",
    "\n",
    "\n",
    "\n",
    "df = [df_1,df_2,df_3,df_4,df_5,df_6,df_7,df_8,df_9,df_10,df_11,df_12,df_13,df_14]\n",
    "df = pd.concat(df)\n",
    "df"
   ]
  },
  {
   "cell_type": "code",
   "execution_count": 27,
   "metadata": {},
   "outputs": [
    {
     "data": {
      "text/plain": [
       "(28970727, 10)"
      ]
     },
     "execution_count": 27,
     "metadata": {},
     "output_type": "execute_result"
    }
   ],
   "source": [
    "Q1 = df['MARKET_FARE'].quantile(0.25)\n",
    "Q1\n",
    "\n",
    "# # # Calculate Q3\n",
    "Q3 = df['MARKET_FARE'].quantile(0.75)\n",
    "Q3\n",
    "# # # Define the Inter Quartile Range (IQR)\n",
    "IQR = Q3 - Q1\n",
    "IQR\n",
    "# # # Make select condition for the values that fall below the Q1 - 1.5*IQR\n",
    "outliers_below = df['MARKET_FARE'] < (Q1 - 1.5 * IQR)\n",
    "\n",
    "# # # Make select condition for the values that fall above the Q3 - 1.5*IQR\n",
    "outliers_above = df['MARKET_FARE'] > (Q3 + 1.5 * IQR)\n",
    "outliers_above\n",
    "# # # Select the INVERSE of the selection\n",
    "df = df[ ~(outliers_above | outliers_below) ]\n",
    "df.shape"
   ]
  },
  {
   "cell_type": "markdown",
   "metadata": {},
   "source": [
    "# Questions for visualization\n",
    "1.Which independent variable is the best predictor for price prediction?(Hk)\n",
    "\n",
    "2.Ideal time to book a fare?(hk)\n",
    "\n",
    "3. Which airline company has the highest fare ticket price?(hk)\n",
    "\n",
    "4. How did the price, miles flown, and state flight activity fluctuate during covid 19?(HK)\n",
    "5. Which is the most popular airline?(HK)\n",
    "\n"
   ]
  },
  {
   "cell_type": "code",
   "execution_count": 28,
   "metadata": {
    "scrolled": true
   },
   "outputs": [
    {
     "data": {
      "image/png": "[encoded data removed]",
      "text/plain": [
       "<Figure size 720x720 with 1 Axes>"
      ]
     },
     "metadata": {
      "needs_background": "light"
     },
     "output_type": "display_data"
    }
   ],
   "source": [
    "# 2.Ideal time to book a fare?\n",
    "plt.figure(figsize=(10,10))\n",
    "ax =sns.lineplot(data = df, x = \"QUARTER\", y = \"MARKET_FARE\")\n"
   ]
  },
  {
   "cell_type": "code",
   "execution_count": 29,
   "metadata": {
    "scrolled": true
   },
   "outputs": [
    {
     "data": {
      "image/png": "[encoded data removed]",
      "text/plain": [
       "<Figure size 720x720 with 1 Axes>"
      ]
     },
     "metadata": {
      "needs_background": "light"
     },
     "output_type": "display_data"
    }
   ],
   "source": [
    "# 2.Activity of miles throughout the  year\n",
    "plt.figure(figsize=(10,10))\n",
    "ax =sns.lineplot(data = df, x = \"QUARTER\", y = \"NONSTOP_MILES\")\n"
   ]
  },
  {
   "cell_type": "code",
   "execution_count": null,
   "metadata": {},
   "outputs": [],
   "source": [
    "# Airline Compaies Code\n",
    "WN -- Southwest Airlines Co.\n",
    "DL -- Delta Air Lines Inc.\n",
    "AA -- American Airlines Inc.\n",
    "UA -- United Air Lines Inc.\n",
    "B6 -- JetBlue Airways\n",
    "AS -- Alaska Airlines Inc.\n",
    "NK -- Spirit Air Lines\n",
    "G4 -- Allegiant Air\n",
    "F9 -- Frontier Airlines Inc.\n",
    "HA -- Hawaiian Airlines Inc.\n"
   ]
  },
  {
   "cell_type": "code",
   "execution_count": 45,
   "metadata": {},
   "outputs": [],
   "source": [
    "# 3.Which airline company has the highest fare ticket price?(hk)\n",
    "airline_company = ['AA', 'DL', 'AS','B6','UA', 'NK','WN','G4', 'F9','HA']"
   ]
  },
  {
   "cell_type": "code",
   "execution_count": 46,
   "metadata": {},
   "outputs": [
    {
     "data": {
      "text/html": [
       "<div>\n",
       "<style scoped>\n",
       "    .dataframe tbody tr th:only-of-type {\n",
       "        vertical-align: middle;\n",
       "    }\n",
       "\n",
       "    .dataframe tbody tr th {\n",
       "        vertical-align: top;\n",
       "    }\n",
       "\n",
       "    .dataframe thead th {\n",
       "        text-align: right;\n",
       "    }\n",
       "</style>\n",
       "<table border=\"1\" class=\"dataframe\">\n",
       "  <thead>\n",
       "    <tr style=\"text-align: right;\">\n",
       "      <th></th>\n",
       "      <th>ITIN_ID</th>\n",
       "      <th>YEAR</th>\n",
       "      <th>QUARTER</th>\n",
       "      <th>ORIGIN_STATE_NM</th>\n",
       "      <th>DEST_STATE_NM</th>\n",
       "      <th>TICKET_CARRIER</th>\n",
       "      <th>PASSENGERS</th>\n",
       "      <th>MARKET_FARE</th>\n",
       "      <th>NONSTOP_MILES</th>\n",
       "      <th>OP_CARRIER_GROUP</th>\n",
       "    </tr>\n",
       "  </thead>\n",
       "  <tbody>\n",
       "    <tr>\n",
       "      <th>0</th>\n",
       "      <td>201912</td>\n",
       "      <td>2019</td>\n",
       "      <td>1</td>\n",
       "      <td>Pennsylvania</td>\n",
       "      <td>Georgia</td>\n",
       "      <td>DL</td>\n",
       "      <td>1.0</td>\n",
       "      <td>36.0</td>\n",
       "      <td>692.0</td>\n",
       "      <td>NaN</td>\n",
       "    </tr>\n",
       "    <tr>\n",
       "      <th>1</th>\n",
       "      <td>201913</td>\n",
       "      <td>2019</td>\n",
       "      <td>1</td>\n",
       "      <td>Pennsylvania</td>\n",
       "      <td>Georgia</td>\n",
       "      <td>DL</td>\n",
       "      <td>1.0</td>\n",
       "      <td>143.0</td>\n",
       "      <td>692.0</td>\n",
       "      <td>NaN</td>\n",
       "    </tr>\n",
       "    <tr>\n",
       "      <th>2</th>\n",
       "      <td>201914</td>\n",
       "      <td>2019</td>\n",
       "      <td>1</td>\n",
       "      <td>Pennsylvania</td>\n",
       "      <td>Georgia</td>\n",
       "      <td>DL</td>\n",
       "      <td>1.0</td>\n",
       "      <td>203.0</td>\n",
       "      <td>692.0</td>\n",
       "      <td>NaN</td>\n",
       "    </tr>\n",
       "    <tr>\n",
       "      <th>3</th>\n",
       "      <td>201915</td>\n",
       "      <td>2019</td>\n",
       "      <td>1</td>\n",
       "      <td>Pennsylvania</td>\n",
       "      <td>Georgia</td>\n",
       "      <td>DL</td>\n",
       "      <td>1.0</td>\n",
       "      <td>211.0</td>\n",
       "      <td>692.0</td>\n",
       "      <td>NaN</td>\n",
       "    </tr>\n",
       "    <tr>\n",
       "      <th>4</th>\n",
       "      <td>201916</td>\n",
       "      <td>2019</td>\n",
       "      <td>1</td>\n",
       "      <td>Pennsylvania</td>\n",
       "      <td>Georgia</td>\n",
       "      <td>DL</td>\n",
       "      <td>1.0</td>\n",
       "      <td>241.0</td>\n",
       "      <td>692.0</td>\n",
       "      <td>NaN</td>\n",
       "    </tr>\n",
       "    <tr>\n",
       "      <th>...</th>\n",
       "      <td>...</td>\n",
       "      <td>...</td>\n",
       "      <td>...</td>\n",
       "      <td>...</td>\n",
       "      <td>...</td>\n",
       "      <td>...</td>\n",
       "      <td>...</td>\n",
       "      <td>...</td>\n",
       "      <td>...</td>\n",
       "      <td>...</td>\n",
       "    </tr>\n",
       "    <tr>\n",
       "      <th>2097147</th>\n",
       "      <td>202221881608</td>\n",
       "      <td>2022</td>\n",
       "      <td>2</td>\n",
       "      <td>Massachusetts</td>\n",
       "      <td>Iowa</td>\n",
       "      <td>DL</td>\n",
       "      <td>1.0</td>\n",
       "      <td>236.5</td>\n",
       "      <td>1165.0</td>\n",
       "      <td>NaN</td>\n",
       "    </tr>\n",
       "    <tr>\n",
       "      <th>2097148</th>\n",
       "      <td>202221881608</td>\n",
       "      <td>2022</td>\n",
       "      <td>2</td>\n",
       "      <td>Iowa</td>\n",
       "      <td>Massachusetts</td>\n",
       "      <td>DL</td>\n",
       "      <td>1.0</td>\n",
       "      <td>236.5</td>\n",
       "      <td>1165.0</td>\n",
       "      <td>NaN</td>\n",
       "    </tr>\n",
       "    <tr>\n",
       "      <th>2097149</th>\n",
       "      <td>202221881609</td>\n",
       "      <td>2022</td>\n",
       "      <td>2</td>\n",
       "      <td>Massachusetts</td>\n",
       "      <td>Iowa</td>\n",
       "      <td>DL</td>\n",
       "      <td>1.0</td>\n",
       "      <td>285.0</td>\n",
       "      <td>1165.0</td>\n",
       "      <td>NaN</td>\n",
       "    </tr>\n",
       "    <tr>\n",
       "      <th>2097150</th>\n",
       "      <td>202221881609</td>\n",
       "      <td>2022</td>\n",
       "      <td>2</td>\n",
       "      <td>Iowa</td>\n",
       "      <td>Massachusetts</td>\n",
       "      <td>DL</td>\n",
       "      <td>1.0</td>\n",
       "      <td>285.0</td>\n",
       "      <td>1165.0</td>\n",
       "      <td>NaN</td>\n",
       "    </tr>\n",
       "    <tr>\n",
       "      <th>2097151</th>\n",
       "      <td>202221881610</td>\n",
       "      <td>2022</td>\n",
       "      <td>2</td>\n",
       "      <td>Massachusetts</td>\n",
       "      <td>Iowa</td>\n",
       "      <td>DL</td>\n",
       "      <td>1.0</td>\n",
       "      <td>479.5</td>\n",
       "      <td>1165.0</td>\n",
       "      <td>NaN</td>\n",
       "    </tr>\n",
       "  </tbody>\n",
       "</table>\n",
       "<p>24490283 rows × 10 columns</p>\n",
       "</div>"
      ],
      "text/plain": [
       "              ITIN_ID  YEAR  QUARTER ORIGIN_STATE_NM  DEST_STATE_NM  \\\n",
       "0              201912  2019        1    Pennsylvania        Georgia   \n",
       "1              201913  2019        1    Pennsylvania        Georgia   \n",
       "2              201914  2019        1    Pennsylvania        Georgia   \n",
       "3              201915  2019        1    Pennsylvania        Georgia   \n",
       "4              201916  2019        1    Pennsylvania        Georgia   \n",
       "...               ...   ...      ...             ...            ...   \n",
       "2097147  202221881608  2022        2   Massachusetts           Iowa   \n",
       "2097148  202221881608  2022        2            Iowa  Massachusetts   \n",
       "2097149  202221881609  2022        2   Massachusetts           Iowa   \n",
       "2097150  202221881609  2022        2            Iowa  Massachusetts   \n",
       "2097151  202221881610  2022        2   Massachusetts           Iowa   \n",
       "\n",
       "        TICKET_CARRIER  PASSENGERS  MARKET_FARE  NONSTOP_MILES  \\\n",
       "0                   DL         1.0         36.0          692.0   \n",
       "1                   DL         1.0        143.0          692.0   \n",
       "2                   DL         1.0        203.0          692.0   \n",
       "3                   DL         1.0        211.0          692.0   \n",
       "4                   DL         1.0        241.0          692.0   \n",
       "...                ...         ...          ...            ...   \n",
       "2097147             DL         1.0        236.5         1165.0   \n",
       "2097148             DL         1.0        236.5         1165.0   \n",
       "2097149             DL         1.0        285.0         1165.0   \n",
       "2097150             DL         1.0        285.0         1165.0   \n",
       "2097151             DL         1.0        479.5         1165.0   \n",
       "\n",
       "        OP_CARRIER_GROUP  \n",
       "0                    NaN  \n",
       "1                    NaN  \n",
       "2                    NaN  \n",
       "3                    NaN  \n",
       "4                    NaN  \n",
       "...                  ...  \n",
       "2097147              NaN  \n",
       "2097148              NaN  \n",
       "2097149              NaN  \n",
       "2097150              NaN  \n",
       "2097151              NaN  \n",
       "\n",
       "[24490283 rows x 10 columns]"
      ]
     },
     "execution_count": 46,
     "metadata": {},
     "output_type": "execute_result"
    }
   ],
   "source": [
    "com_df = df[df.TICKET_CARRIER.isin(airline_company)]\n",
    "com_df"
   ]
  },
  {
   "cell_type": "code",
   "execution_count": 47,
   "metadata": {},
   "outputs": [
    {
     "data": {
      "text/plain": [
       "<matplotlib.axes._subplots.AxesSubplot at 0x7fc578336730>"
      ]
     },
     "execution_count": 47,
     "metadata": {},
     "output_type": "execute_result"
    },
    {
     "data": {
      "image/png": "[encoded data removed]",
      "text/plain": [
       "<Figure size 1008x648 with 1 Axes>"
      ]
     },
     "metadata": {
      "needs_background": "light"
     },
     "output_type": "display_data"
    }
   ],
   "source": [
    "mf_df = com_df.groupby('TICKET_CARRIER')['MARKET_FARE'].mean()\n",
    "mf_df= mf_df.sort_values(ascending=False)\n",
    "mf_df.plot(kind='barh',figsize=(14,9))"
   ]
  },
  {
   "cell_type": "code",
   "execution_count": 49,
   "metadata": {},
   "outputs": [
    {
     "data": {
      "text/plain": [
       "<matplotlib.axes._subplots.AxesSubplot at 0x7fc12815da00>"
      ]
     },
     "execution_count": 49,
     "metadata": {},
     "output_type": "execute_result"
    },
    {
     "data": {
      "image/png": "[encoded data removed]",
      "text/plain": [
       "<Figure size 432x288 with 1 Axes>"
      ]
     },
     "metadata": {
      "needs_background": "light"
     },
     "output_type": "display_data"
    }
   ],
   "source": [
    "#How did the price fluctuate during covid 19?\n",
    "\n",
    "sns.lineplot(data = df, x = \"YEAR\", y = \"MARKET_FARE\")\n"
   ]
  },
  {
   "cell_type": "code",
   "execution_count": 50,
   "metadata": {},
   "outputs": [
    {
     "data": {
      "text/plain": [
       "<matplotlib.axes._subplots.AxesSubplot at 0x7fc55fa48640>"
      ]
     },
     "execution_count": 50,
     "metadata": {},
     "output_type": "execute_result"
    },
    {
     "data": {
      "image/png": "[encoded data removed]",
      "text/plain": [
       "<Figure size 432x288 with 1 Axes>"
      ]
     },
     "metadata": {
      "needs_background": "light"
     },
     "output_type": "display_data"
    }
   ],
   "source": [
    "#How did the miles fluctuate during covid 19?\n",
    "\n",
    "sns.lineplot(data = df, x = \"YEAR\", y = \"NONSTOP_MILES\")\n"
   ]
  },
  {
   "cell_type": "code",
   "execution_count": 48,
   "metadata": {},
   "outputs": [
    {
     "data": {
      "image/png": "[encoded data removed]",
      "text/plain": [
       "<Figure size 1008x648 with 1 Axes>"
      ]
     },
     "metadata": {
      "needs_background": "light"
     },
     "output_type": "display_data"
    }
   ],
   "source": [
    "#5.Which is the most popular airline?\n",
    "airline = com_df.groupby('TICKET_CARRIER')\n",
    "airline_count= airline['TICKET_CARRIER'].count()\n",
    "airline_count=airline_count.sort_values(ascending=False)\n",
    "ax = airline_count.plot(kind='barh',figsize=(14,9))\n",
    "ax.ticklabel_format(style='plain',axis='x')\n"
   ]
  },
  {
   "cell_type": "code",
   "execution_count": null,
   "metadata": {},
   "outputs": [],
   "source": []
  }
 ],
 "metadata": {
  "kernelspec": {
   "display_name": "Python 3",
   "language": "python",
   "name": "python3"
  },
  "language_info": {
   "codemirror_mode": {
    "name": "ipython",
    "version": 3
   },
   "file_extension": ".py",
   "mimetype": "text/x-python",
   "name": "python",
   "nbconvert_exporter": "python",
   "pygments_lexer": "ipython3",
   "version": "3.8.3"
  }
 },
 "nbformat": 4,
 "nbformat_minor": 4
}
